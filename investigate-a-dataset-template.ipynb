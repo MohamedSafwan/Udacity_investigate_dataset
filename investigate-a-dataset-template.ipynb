{
 "cells": [
  {
   "cell_type": "markdown",
   "metadata": {
    "tags": []
   },
   "source": [
    "# Investigate whether or not patients show up for their medical appointment in Brazil.\n",
    "## Table of Contents\n",
    "<ul>\n",
    "<li><a href=\"#intro\">Introduction</a></li>\n",
    "<li><a href=\"#wrangling\">Data Wrangling</a></li>\n",
    "<li><a href=\"#eda\">Exploratory Data Analysis</a></li>\n",
    "<li><a href=\"#conclusions\">Conclusions</a></li>\n",
    "</ul>"
   ]
  },
  {
   "cell_type": "markdown",
   "metadata": {
    "tags": [],
    "toc-hr-collapsed": true
   },
   "source": [
    "<a id='intro'></a>\n",
    "## Introduction\n",
    "\n",
    "- This dataset collects information from 100k medical appointments in\n",
    "    Brazil and is focused on the question of whether or not patients show up for their appointment.\n",
    " - A number of characteristics about the patient are\n",
    "    included in each row.<br>\n",
    "### The data describtion\n",
    "- 'ScheduledDay' column: it tells us on what day the patient set up their  appointment.\n",
    "- 'Neighborhood' column: it indicates the location of the hospital.\n",
    "- 'Scholarship' column: it indicates whether or not the patient is enrolled in Brasilian welfare program Bolsa Família.\n",
    "- 'No-show' column: it says ‘No’ if the patient showed up to their appointment, and ‘Yes’ if they did not show up."
   ]
  },
  {
   "cell_type": "code",
   "execution_count": 1,
   "metadata": {
    "tags": []
   },
   "outputs": [],
   "source": [
    "# importing the needed packages\n",
    "import pandas as pd\n",
    "import numpy as np\n",
    "import matplotlib.pyplot as plt\n",
    "%matplotlib inline"
   ]
  },
  {
   "cell_type": "markdown",
   "metadata": {},
   "source": [
    "### Questions to be answered in this report:\n",
    "<ul>\n",
    "<li><a href=\"#q1\">what is the most common disease in brazil?</a></li>\n",
    "<li><a href=\"#q2\">What is the relationship between the diffrence between the scheduled day and the appointment day and cancellation?</a></li>\n",
    "<li><a href=\"#q3\">what is the relationship between gender and cancellation?</a></li>\n",
    "<li><a href=\"#q4\">what is the relationship between scholarshop and cancellation?</a></li>\n",
    "<li><a href=\"#q5\">what is the relationship between age and cancellation?</a></li>\n",
    "<ul>"
   ]
  },
  {
   "cell_type": "markdown",
   "metadata": {
    "tags": [],
    "toc-hr-collapsed": true
   },
   "source": [
    "<a id='wrangling'></a>\n",
    "## Data Wrangling\n",
    "\n",
    "> In this section the data will be loaded, assesed (check for cleanliness), and cleaned to be ready for analysis.\n",
    "\n",
    "### Loading the data (Gathering)"
   ]
  },
  {
   "cell_type": "code",
   "execution_count": 2,
   "metadata": {},
   "outputs": [
    {
     "data": {
      "text/html": [
       "<div>\n",
       "<style scoped>\n",
       "    .dataframe tbody tr th:only-of-type {\n",
       "        vertical-align: middle;\n",
       "    }\n",
       "\n",
       "    .dataframe tbody tr th {\n",
       "        vertical-align: top;\n",
       "    }\n",
       "\n",
       "    .dataframe thead th {\n",
       "        text-align: right;\n",
       "    }\n",
       "</style>\n",
       "<table border=\"1\" class=\"dataframe\">\n",
       "  <thead>\n",
       "    <tr style=\"text-align: right;\">\n",
       "      <th></th>\n",
       "      <th>PatientId</th>\n",
       "      <th>AppointmentID</th>\n",
       "      <th>Gender</th>\n",
       "      <th>ScheduledDay</th>\n",
       "      <th>AppointmentDay</th>\n",
       "      <th>Age</th>\n",
       "      <th>Neighbourhood</th>\n",
       "      <th>Scholarship</th>\n",
       "      <th>Hipertension</th>\n",
       "      <th>Diabetes</th>\n",
       "      <th>Alcoholism</th>\n",
       "      <th>Handcap</th>\n",
       "      <th>SMS_received</th>\n",
       "      <th>No-show</th>\n",
       "    </tr>\n",
       "  </thead>\n",
       "  <tbody>\n",
       "    <tr>\n",
       "      <th>0</th>\n",
       "      <td>2.987250e+13</td>\n",
       "      <td>5642903</td>\n",
       "      <td>F</td>\n",
       "      <td>2016-04-29T18:38:08Z</td>\n",
       "      <td>2016-04-29T00:00:00Z</td>\n",
       "      <td>62</td>\n",
       "      <td>JARDIM DA PENHA</td>\n",
       "      <td>0</td>\n",
       "      <td>1</td>\n",
       "      <td>0</td>\n",
       "      <td>0</td>\n",
       "      <td>0</td>\n",
       "      <td>0</td>\n",
       "      <td>No</td>\n",
       "    </tr>\n",
       "    <tr>\n",
       "      <th>1</th>\n",
       "      <td>5.589978e+14</td>\n",
       "      <td>5642503</td>\n",
       "      <td>M</td>\n",
       "      <td>2016-04-29T16:08:27Z</td>\n",
       "      <td>2016-04-29T00:00:00Z</td>\n",
       "      <td>56</td>\n",
       "      <td>JARDIM DA PENHA</td>\n",
       "      <td>0</td>\n",
       "      <td>0</td>\n",
       "      <td>0</td>\n",
       "      <td>0</td>\n",
       "      <td>0</td>\n",
       "      <td>0</td>\n",
       "      <td>No</td>\n",
       "    </tr>\n",
       "    <tr>\n",
       "      <th>2</th>\n",
       "      <td>4.262962e+12</td>\n",
       "      <td>5642549</td>\n",
       "      <td>F</td>\n",
       "      <td>2016-04-29T16:19:04Z</td>\n",
       "      <td>2016-04-29T00:00:00Z</td>\n",
       "      <td>62</td>\n",
       "      <td>MATA DA PRAIA</td>\n",
       "      <td>0</td>\n",
       "      <td>0</td>\n",
       "      <td>0</td>\n",
       "      <td>0</td>\n",
       "      <td>0</td>\n",
       "      <td>0</td>\n",
       "      <td>No</td>\n",
       "    </tr>\n",
       "    <tr>\n",
       "      <th>3</th>\n",
       "      <td>8.679512e+11</td>\n",
       "      <td>5642828</td>\n",
       "      <td>F</td>\n",
       "      <td>2016-04-29T17:29:31Z</td>\n",
       "      <td>2016-04-29T00:00:00Z</td>\n",
       "      <td>8</td>\n",
       "      <td>PONTAL DE CAMBURI</td>\n",
       "      <td>0</td>\n",
       "      <td>0</td>\n",
       "      <td>0</td>\n",
       "      <td>0</td>\n",
       "      <td>0</td>\n",
       "      <td>0</td>\n",
       "      <td>No</td>\n",
       "    </tr>\n",
       "    <tr>\n",
       "      <th>4</th>\n",
       "      <td>8.841186e+12</td>\n",
       "      <td>5642494</td>\n",
       "      <td>F</td>\n",
       "      <td>2016-04-29T16:07:23Z</td>\n",
       "      <td>2016-04-29T00:00:00Z</td>\n",
       "      <td>56</td>\n",
       "      <td>JARDIM DA PENHA</td>\n",
       "      <td>0</td>\n",
       "      <td>1</td>\n",
       "      <td>1</td>\n",
       "      <td>0</td>\n",
       "      <td>0</td>\n",
       "      <td>0</td>\n",
       "      <td>No</td>\n",
       "    </tr>\n",
       "  </tbody>\n",
       "</table>\n",
       "</div>"
      ],
      "text/plain": [
       "      PatientId  AppointmentID Gender          ScheduledDay  \\\n",
       "0  2.987250e+13        5642903      F  2016-04-29T18:38:08Z   \n",
       "1  5.589978e+14        5642503      M  2016-04-29T16:08:27Z   \n",
       "2  4.262962e+12        5642549      F  2016-04-29T16:19:04Z   \n",
       "3  8.679512e+11        5642828      F  2016-04-29T17:29:31Z   \n",
       "4  8.841186e+12        5642494      F  2016-04-29T16:07:23Z   \n",
       "\n",
       "         AppointmentDay  Age      Neighbourhood  Scholarship  Hipertension  \\\n",
       "0  2016-04-29T00:00:00Z   62    JARDIM DA PENHA            0             1   \n",
       "1  2016-04-29T00:00:00Z   56    JARDIM DA PENHA            0             0   \n",
       "2  2016-04-29T00:00:00Z   62      MATA DA PRAIA            0             0   \n",
       "3  2016-04-29T00:00:00Z    8  PONTAL DE CAMBURI            0             0   \n",
       "4  2016-04-29T00:00:00Z   56    JARDIM DA PENHA            0             1   \n",
       "\n",
       "   Diabetes  Alcoholism  Handcap  SMS_received No-show  \n",
       "0         0           0        0             0      No  \n",
       "1         0           0        0             0      No  \n",
       "2         0           0        0             0      No  \n",
       "3         0           0        0             0      No  \n",
       "4         1           0        0             0      No  "
      ]
     },
     "execution_count": 2,
     "metadata": {},
     "output_type": "execute_result"
    }
   ],
   "source": [
    "df = pd.read_csv('noshowappointments-kagglev2-may-2016.csv')\n",
    "df.head()"
   ]
  },
  {
   "cell_type": "markdown",
   "metadata": {},
   "source": [
    "### Assessing the data"
   ]
  },
  {
   "cell_type": "code",
   "execution_count": 3,
   "metadata": {},
   "outputs": [
    {
     "name": "stdout",
     "output_type": "stream",
     "text": [
      "<class 'pandas.core.frame.DataFrame'>\n",
      "RangeIndex: 110527 entries, 0 to 110526\n",
      "Data columns (total 14 columns):\n",
      " #   Column          Non-Null Count   Dtype  \n",
      "---  ------          --------------   -----  \n",
      " 0   PatientId       110527 non-null  float64\n",
      " 1   AppointmentID   110527 non-null  int64  \n",
      " 2   Gender          110527 non-null  object \n",
      " 3   ScheduledDay    110527 non-null  object \n",
      " 4   AppointmentDay  110527 non-null  object \n",
      " 5   Age             110527 non-null  int64  \n",
      " 6   Neighbourhood   110527 non-null  object \n",
      " 7   Scholarship     110527 non-null  int64  \n",
      " 8   Hipertension    110527 non-null  int64  \n",
      " 9   Diabetes        110527 non-null  int64  \n",
      " 10  Alcoholism      110527 non-null  int64  \n",
      " 11  Handcap         110527 non-null  int64  \n",
      " 12  SMS_received    110527 non-null  int64  \n",
      " 13  No-show         110527 non-null  object \n",
      "dtypes: float64(1), int64(8), object(5)\n",
      "memory usage: 11.8+ MB\n"
     ]
    }
   ],
   "source": [
    "df.info()"
   ]
  },
  {
   "cell_type": "code",
   "execution_count": 4,
   "metadata": {},
   "outputs": [
    {
     "data": {
      "text/plain": [
       "0"
      ]
     },
     "execution_count": 4,
     "metadata": {},
     "output_type": "execute_result"
    }
   ],
   "source": [
    "# check for duplicated rows\n",
    "df.duplicated().sum()"
   ]
  },
  {
   "cell_type": "code",
   "execution_count": 5,
   "metadata": {},
   "outputs": [
    {
     "data": {
      "text/html": [
       "<div>\n",
       "<style scoped>\n",
       "    .dataframe tbody tr th:only-of-type {\n",
       "        vertical-align: middle;\n",
       "    }\n",
       "\n",
       "    .dataframe tbody tr th {\n",
       "        vertical-align: top;\n",
       "    }\n",
       "\n",
       "    .dataframe thead th {\n",
       "        text-align: right;\n",
       "    }\n",
       "</style>\n",
       "<table border=\"1\" class=\"dataframe\">\n",
       "  <thead>\n",
       "    <tr style=\"text-align: right;\">\n",
       "      <th></th>\n",
       "      <th>PatientId</th>\n",
       "      <th>AppointmentID</th>\n",
       "      <th>Gender</th>\n",
       "      <th>ScheduledDay</th>\n",
       "      <th>AppointmentDay</th>\n",
       "      <th>Age</th>\n",
       "      <th>Neighbourhood</th>\n",
       "      <th>Scholarship</th>\n",
       "      <th>Hipertension</th>\n",
       "      <th>Diabetes</th>\n",
       "      <th>Alcoholism</th>\n",
       "      <th>Handcap</th>\n",
       "      <th>SMS_received</th>\n",
       "      <th>No-show</th>\n",
       "    </tr>\n",
       "  </thead>\n",
       "  <tbody>\n",
       "    <tr>\n",
       "      <th>86922</th>\n",
       "      <td>7.479327e+13</td>\n",
       "      <td>5737705</td>\n",
       "      <td>F</td>\n",
       "      <td>2016-05-25T09:56:16Z</td>\n",
       "      <td>2016-06-08T00:00:00Z</td>\n",
       "      <td>0</td>\n",
       "      <td>PRAIA DO SUÁ</td>\n",
       "      <td>0</td>\n",
       "      <td>0</td>\n",
       "      <td>0</td>\n",
       "      <td>0</td>\n",
       "      <td>0</td>\n",
       "      <td>0</td>\n",
       "      <td>No</td>\n",
       "    </tr>\n",
       "    <tr>\n",
       "      <th>32580</th>\n",
       "      <td>8.181667e+12</td>\n",
       "      <td>5579098</td>\n",
       "      <td>F</td>\n",
       "      <td>2016-04-13T14:16:30Z</td>\n",
       "      <td>2016-05-04T00:00:00Z</td>\n",
       "      <td>76</td>\n",
       "      <td>JARDIM DA PENHA</td>\n",
       "      <td>0</td>\n",
       "      <td>1</td>\n",
       "      <td>0</td>\n",
       "      <td>0</td>\n",
       "      <td>0</td>\n",
       "      <td>1</td>\n",
       "      <td>Yes</td>\n",
       "    </tr>\n",
       "    <tr>\n",
       "      <th>72345</th>\n",
       "      <td>8.166539e+14</td>\n",
       "      <td>5661098</td>\n",
       "      <td>F</td>\n",
       "      <td>2016-05-05T07:12:43Z</td>\n",
       "      <td>2016-05-05T00:00:00Z</td>\n",
       "      <td>75</td>\n",
       "      <td>MARIA ORTIZ</td>\n",
       "      <td>0</td>\n",
       "      <td>0</td>\n",
       "      <td>0</td>\n",
       "      <td>0</td>\n",
       "      <td>0</td>\n",
       "      <td>0</td>\n",
       "      <td>No</td>\n",
       "    </tr>\n",
       "    <tr>\n",
       "      <th>75609</th>\n",
       "      <td>9.257724e+14</td>\n",
       "      <td>5705411</td>\n",
       "      <td>M</td>\n",
       "      <td>2016-05-17T07:10:31Z</td>\n",
       "      <td>2016-05-17T00:00:00Z</td>\n",
       "      <td>58</td>\n",
       "      <td>NOVA PALESTINA</td>\n",
       "      <td>0</td>\n",
       "      <td>1</td>\n",
       "      <td>1</td>\n",
       "      <td>0</td>\n",
       "      <td>0</td>\n",
       "      <td>0</td>\n",
       "      <td>No</td>\n",
       "    </tr>\n",
       "    <tr>\n",
       "      <th>19978</th>\n",
       "      <td>9.996753e+12</td>\n",
       "      <td>5661946</td>\n",
       "      <td>M</td>\n",
       "      <td>2016-05-05T07:56:45Z</td>\n",
       "      <td>2016-05-05T00:00:00Z</td>\n",
       "      <td>3</td>\n",
       "      <td>SANTO ANTÔNIO</td>\n",
       "      <td>1</td>\n",
       "      <td>0</td>\n",
       "      <td>0</td>\n",
       "      <td>0</td>\n",
       "      <td>0</td>\n",
       "      <td>0</td>\n",
       "      <td>No</td>\n",
       "    </tr>\n",
       "  </tbody>\n",
       "</table>\n",
       "</div>"
      ],
      "text/plain": [
       "          PatientId  AppointmentID Gender          ScheduledDay  \\\n",
       "86922  7.479327e+13        5737705      F  2016-05-25T09:56:16Z   \n",
       "32580  8.181667e+12        5579098      F  2016-04-13T14:16:30Z   \n",
       "72345  8.166539e+14        5661098      F  2016-05-05T07:12:43Z   \n",
       "75609  9.257724e+14        5705411      M  2016-05-17T07:10:31Z   \n",
       "19978  9.996753e+12        5661946      M  2016-05-05T07:56:45Z   \n",
       "\n",
       "             AppointmentDay  Age    Neighbourhood  Scholarship  Hipertension  \\\n",
       "86922  2016-06-08T00:00:00Z    0     PRAIA DO SUÁ            0             0   \n",
       "32580  2016-05-04T00:00:00Z   76  JARDIM DA PENHA            0             1   \n",
       "72345  2016-05-05T00:00:00Z   75      MARIA ORTIZ            0             0   \n",
       "75609  2016-05-17T00:00:00Z   58   NOVA PALESTINA            0             1   \n",
       "19978  2016-05-05T00:00:00Z    3    SANTO ANTÔNIO            1             0   \n",
       "\n",
       "       Diabetes  Alcoholism  Handcap  SMS_received No-show  \n",
       "86922         0           0        0             0      No  \n",
       "32580         0           0        0             1     Yes  \n",
       "72345         0           0        0             0      No  \n",
       "75609         1           0        0             0      No  \n",
       "19978         0           0        0             0      No  "
      ]
     },
     "execution_count": 5,
     "metadata": {},
     "output_type": "execute_result"
    }
   ],
   "source": [
    "# For a deeper look into the data, Run this cell multiple times\n",
    "df.sample(5)"
   ]
  },
  {
   "cell_type": "code",
   "execution_count": 6,
   "metadata": {},
   "outputs": [
    {
     "data": {
      "text/plain": [
       " 0      3539\n",
       " 1      2273\n",
       " 52     1746\n",
       " 49     1652\n",
       " 53     1651\n",
       "        ... \n",
       " 115       5\n",
       " 100       4\n",
       " 102       2\n",
       " 99        1\n",
       "-1         1\n",
       "Name: Age, Length: 104, dtype: int64"
      ]
     },
     "execution_count": 6,
     "metadata": {},
     "output_type": "execute_result"
    }
   ],
   "source": [
    "df.Age.value_counts()"
   ]
  },
  {
   "cell_type": "code",
   "execution_count": 7,
   "metadata": {},
   "outputs": [
    {
     "data": {
      "text/plain": [
       "16920    2016-05-16T00:00:00Z\n",
       "Name: AppointmentDay, dtype: object"
      ]
     },
     "execution_count": 7,
     "metadata": {},
     "output_type": "execute_result"
    }
   ],
   "source": [
    "df.AppointmentDay.sample()"
   ]
  },
  {
   "cell_type": "code",
   "execution_count": 8,
   "metadata": {},
   "outputs": [
    {
     "data": {
      "text/plain": [
       "37346    2016-05-11T08:28:30Z\n",
       "Name: ScheduledDay, dtype: object"
      ]
     },
     "execution_count": 8,
     "metadata": {},
     "output_type": "execute_result"
    }
   ],
   "source": [
    "df.ScheduledDay.sample()"
   ]
  },
  {
   "cell_type": "markdown",
   "metadata": {},
   "source": [
    "> Assessing Conclusion\n",
    "- The names of columns need to be renamed for easier anaysis.\n",
    "- Some columns are useless, they should be droped.\n",
    "- Wrong values inside the 'handcap' column, the values should be 0 or 1.  \n",
    "- Disease columns can be emplemented in only one column insead of four (Tideness issue).\n",
    "- ScheduledDay and AppointmentDay columns' data type is \"object\", it should be \"datetime\".\n",
    "- Age column's data type is \"object\", and it has wrong enteries (example:-1, 115)."
   ]
  },
  {
   "cell_type": "markdown",
   "metadata": {
    "tags": [],
    "toc-hr-collapsed": true
   },
   "source": [
    "### Clean Data\n",
    "> In this section some operations will be done to make the date more clean"
   ]
  },
  {
   "cell_type": "markdown",
   "metadata": {
    "jupyter": {
     "outputs_hidden": true
    }
   },
   "source": [
    "#### Define:\n",
    "The names of columns need to be renamed for easier anaysis.\n",
    "- The names shoud started with small litters.\n",
    "- The names should not have special chracters like \"-\" or '()'"
   ]
  },
  {
   "cell_type": "markdown",
   "metadata": {},
   "source": [
    "#### Code:"
   ]
  },
  {
   "cell_type": "code",
   "execution_count": 9,
   "metadata": {},
   "outputs": [
    {
     "data": {
      "text/plain": [
       "Index(['PatientId', 'AppointmentID', 'Gender', 'ScheduledDay',\n",
       "       'AppointmentDay', 'Age', 'Neighbourhood', 'Scholarship', 'Hipertension',\n",
       "       'Diabetes', 'Alcoholism', 'Handcap', 'SMS_received', 'No-show'],\n",
       "      dtype='object')"
      ]
     },
     "execution_count": 9,
     "metadata": {},
     "output_type": "execute_result"
    }
   ],
   "source": [
    "df.columns"
   ]
  },
  {
   "cell_type": "code",
   "execution_count": 10,
   "metadata": {},
   "outputs": [
    {
     "data": {
      "text/plain": [
       "Index(['patientid', 'appointmentid', 'gender', 'scheduledday',\n",
       "       'appointmentday', 'age', 'neighbourhood', 'scholarship', 'hipertension',\n",
       "       'diabetes', 'alcoholism', 'handcap', 'sms_received', 'no-show'],\n",
       "      dtype='object')"
      ]
     },
     "execution_count": 10,
     "metadata": {},
     "output_type": "execute_result"
    }
   ],
   "source": [
    "# small letters \n",
    "df.rename(columns= lambda x: x.lower(), inplace=True)\n",
    "# Test\n",
    "df.columns"
   ]
  },
  {
   "cell_type": "code",
   "execution_count": 11,
   "metadata": {},
   "outputs": [
    {
     "data": {
      "text/plain": [
       "Index(['patientid', 'appointmentid', 'gender', 'scheduledday',\n",
       "       'appointmentday', 'age', 'neighbourhood', 'scholarship', 'hipertension',\n",
       "       'diabetes', 'alcoholism', 'handcap', 'sms_received', 'no_show'],\n",
       "      dtype='object')"
      ]
     },
     "execution_count": 11,
     "metadata": {},
     "output_type": "execute_result"
    }
   ],
   "source": [
    "# Removing the special characters\n",
    "df.rename(columns={'no-show': 'no_show'}, inplace=True)\n",
    "# Test\n",
    "df.columns"
   ]
  },
  {
   "cell_type": "markdown",
   "metadata": {},
   "source": [
    "#### Define:\n",
    "Some columns are useless as they will not be used during this analysis, they should be droped.\n",
    "- \"appointmentid\", \"\" are useless data"
   ]
  },
  {
   "cell_type": "markdown",
   "metadata": {},
   "source": [
    "#### Code:"
   ]
  },
  {
   "cell_type": "code",
   "execution_count": 12,
   "metadata": {},
   "outputs": [
    {
     "data": {
      "text/html": [
       "<div>\n",
       "<style scoped>\n",
       "    .dataframe tbody tr th:only-of-type {\n",
       "        vertical-align: middle;\n",
       "    }\n",
       "\n",
       "    .dataframe tbody tr th {\n",
       "        vertical-align: top;\n",
       "    }\n",
       "\n",
       "    .dataframe thead th {\n",
       "        text-align: right;\n",
       "    }\n",
       "</style>\n",
       "<table border=\"1\" class=\"dataframe\">\n",
       "  <thead>\n",
       "    <tr style=\"text-align: right;\">\n",
       "      <th></th>\n",
       "      <th>patientid</th>\n",
       "      <th>appointmentid</th>\n",
       "      <th>gender</th>\n",
       "      <th>scheduledday</th>\n",
       "      <th>appointmentday</th>\n",
       "      <th>age</th>\n",
       "      <th>neighbourhood</th>\n",
       "      <th>scholarship</th>\n",
       "      <th>hipertension</th>\n",
       "      <th>diabetes</th>\n",
       "      <th>alcoholism</th>\n",
       "      <th>handcap</th>\n",
       "      <th>sms_received</th>\n",
       "      <th>no_show</th>\n",
       "    </tr>\n",
       "  </thead>\n",
       "  <tbody>\n",
       "    <tr>\n",
       "      <th>36884</th>\n",
       "      <td>5.141788e+13</td>\n",
       "      <td>5626391</td>\n",
       "      <td>F</td>\n",
       "      <td>2016-04-27T08:10:35Z</td>\n",
       "      <td>2016-05-06T00:00:00Z</td>\n",
       "      <td>60</td>\n",
       "      <td>RESISTÊNCIA</td>\n",
       "      <td>0</td>\n",
       "      <td>0</td>\n",
       "      <td>0</td>\n",
       "      <td>0</td>\n",
       "      <td>0</td>\n",
       "      <td>1</td>\n",
       "      <td>No</td>\n",
       "    </tr>\n",
       "  </tbody>\n",
       "</table>\n",
       "</div>"
      ],
      "text/plain": [
       "          patientid  appointmentid gender          scheduledday  \\\n",
       "36884  5.141788e+13        5626391      F  2016-04-27T08:10:35Z   \n",
       "\n",
       "             appointmentday  age neighbourhood  scholarship  hipertension  \\\n",
       "36884  2016-05-06T00:00:00Z   60   RESISTÊNCIA            0             0   \n",
       "\n",
       "       diabetes  alcoholism  handcap  sms_received no_show  \n",
       "36884         0           0        0             1      No  "
      ]
     },
     "execution_count": 12,
     "metadata": {},
     "output_type": "execute_result"
    }
   ],
   "source": [
    "df.sample()"
   ]
  },
  {
   "cell_type": "code",
   "execution_count": 13,
   "metadata": {},
   "outputs": [
    {
     "name": "stdout",
     "output_type": "stream",
     "text": [
      "<class 'pandas.core.frame.DataFrame'>\n",
      "RangeIndex: 110527 entries, 0 to 110526\n",
      "Data columns (total 13 columns):\n",
      " #   Column          Non-Null Count   Dtype  \n",
      "---  ------          --------------   -----  \n",
      " 0   patientid       110527 non-null  float64\n",
      " 1   gender          110527 non-null  object \n",
      " 2   scheduledday    110527 non-null  object \n",
      " 3   appointmentday  110527 non-null  object \n",
      " 4   age             110527 non-null  int64  \n",
      " 5   neighbourhood   110527 non-null  object \n",
      " 6   scholarship     110527 non-null  int64  \n",
      " 7   hipertension    110527 non-null  int64  \n",
      " 8   diabetes        110527 non-null  int64  \n",
      " 9   alcoholism      110527 non-null  int64  \n",
      " 10  handcap         110527 non-null  int64  \n",
      " 11  sms_received    110527 non-null  int64  \n",
      " 12  no_show         110527 non-null  object \n",
      "dtypes: float64(1), int64(7), object(5)\n",
      "memory usage: 11.0+ MB\n"
     ]
    }
   ],
   "source": [
    "df.drop('appointmentid', axis=1, inplace=True)\n",
    "# Test\n",
    "df.info()"
   ]
  },
  {
   "cell_type": "markdown",
   "metadata": {},
   "source": [
    "#### Define:\n",
    "Wrong values inside the 'handcap' column, the values should be 0 or 1 only. \n",
    "- The total number of wrong entires is 199 row, they could be dropped."
   ]
  },
  {
   "cell_type": "markdown",
   "metadata": {},
   "source": [
    "#### Code:"
   ]
  },
  {
   "cell_type": "code",
   "execution_count": 14,
   "metadata": {},
   "outputs": [
    {
     "data": {
      "text/plain": [
       "0    108286\n",
       "1      2042\n",
       "Name: handcap, dtype: int64"
      ]
     },
     "execution_count": 14,
     "metadata": {},
     "output_type": "execute_result"
    }
   ],
   "source": [
    "df.drop(df.query('(handcap != 0) and (handcap != 1)').index, axis = 0, inplace=True)\n",
    "# Test\n",
    "df.handcap.value_counts()"
   ]
  },
  {
   "cell_type": "markdown",
   "metadata": {},
   "source": [
    "#### Define:\n",
    "Disease's columns can be implemented in only one column insead of four (Tideness issue)."
   ]
  },
  {
   "cell_type": "markdown",
   "metadata": {},
   "source": [
    "#### Code:"
   ]
  },
  {
   "cell_type": "code",
   "execution_count": 15,
   "metadata": {},
   "outputs": [],
   "source": [
    "# fistly editting the disease columns to add them as a srting\n",
    "df.hipertension.replace(0, '', inplace=True)\n",
    "df.hipertension.replace(1, 'hipertension ', inplace=True)\n",
    "\n",
    "df.diabetes.replace(0, '', inplace=True)\n",
    "df.diabetes.replace(1, 'diabetes ', inplace=True)\n",
    "\n",
    "df.alcoholism.replace(0, '', inplace=True)\n",
    "df.alcoholism.replace(1, 'alcoholism ', inplace=True)\n",
    "\n",
    "df.handcap.replace(0, '', inplace=True)\n",
    "df.handcap.replace(1, 'handcap ', inplace=True)"
   ]
  },
  {
   "cell_type": "code",
   "execution_count": 16,
   "metadata": {},
   "outputs": [
    {
     "name": "stdout",
     "output_type": "stream",
     "text": [
      "                 88612\n",
      "hipertension     21716\n",
      "Name: hipertension, dtype: int64              102428\n",
      "diabetes       7900\n",
      "Name: diabetes, dtype: int64                106976\n",
      "alcoholism       3352\n",
      "Name: alcoholism, dtype: int64             108286\n",
      "handcap       2042\n",
      "Name: handcap, dtype: int64\n"
     ]
    }
   ],
   "source": [
    "# Test\n",
    "print(df.hipertension.value_counts(),\n",
    "     df.diabetes.value_counts(),\n",
    "     df.alcoholism.value_counts(),\n",
    "     df.handcap.value_counts())"
   ]
  },
  {
   "cell_type": "code",
   "execution_count": 17,
   "metadata": {},
   "outputs": [
    {
     "data": {
      "text/plain": [
       "                                             84115\n",
       "hipertension                                 13663\n",
       "hipertension diabetes                         5885\n",
       "alcoholism                                    1922\n",
       "diabetes                                      1341\n",
       "handcap                                       1088\n",
       "hipertension alcoholism                       1042\n",
       "hipertension handcap                           541\n",
       "hipertension diabetes handcap                  304\n",
       "hipertension diabetes alcoholism               243\n",
       "diabetes alcoholism                             75\n",
       "diabetes handcap                                39\n",
       "alcoholism handcap                              31\n",
       "hipertension alcoholism handcap                 26\n",
       "hipertension diabetes alcoholism handcap        12\n",
       "diabetes alcoholism handcap                      1\n",
       "Name: disease, dtype: int64"
      ]
     },
     "execution_count": 17,
     "metadata": {},
     "output_type": "execute_result"
    }
   ],
   "source": [
    "# adding the columns to create a new column\n",
    "df['disease'] = df.hipertension + df.diabetes + df.alcoholism + df.handcap\n",
    "# Test\n",
    "df.disease.value_counts()"
   ]
  },
  {
   "cell_type": "code",
   "execution_count": 18,
   "metadata": {},
   "outputs": [
    {
     "data": {
      "text/plain": [
       "other                                        84115\n",
       "hipertension                                 13663\n",
       "hipertension diabetes                         5885\n",
       "alcoholism                                    1922\n",
       "diabetes                                      1341\n",
       "handcap                                       1088\n",
       "hipertension alcoholism                       1042\n",
       "hipertension handcap                           541\n",
       "hipertension diabetes handcap                  304\n",
       "hipertension diabetes alcoholism               243\n",
       "diabetes alcoholism                             75\n",
       "diabetes handcap                                39\n",
       "alcoholism handcap                              31\n",
       "hipertension alcoholism handcap                 26\n",
       "hipertension diabetes alcoholism handcap        12\n",
       "diabetes alcoholism handcap                      1\n",
       "Name: disease, dtype: int64"
      ]
     },
     "execution_count": 18,
     "metadata": {},
     "output_type": "execute_result"
    }
   ],
   "source": [
    "# replace the non values\n",
    "df.disease.replace('', 'other', inplace=True)\n",
    "# Test\n",
    "df.disease.value_counts()"
   ]
  },
  {
   "cell_type": "code",
   "execution_count": 19,
   "metadata": {},
   "outputs": [
    {
     "name": "stdout",
     "output_type": "stream",
     "text": [
      "<class 'pandas.core.frame.DataFrame'>\n",
      "Int64Index: 110328 entries, 0 to 110526\n",
      "Data columns (total 10 columns):\n",
      " #   Column          Non-Null Count   Dtype  \n",
      "---  ------          --------------   -----  \n",
      " 0   patientid       110328 non-null  float64\n",
      " 1   gender          110328 non-null  object \n",
      " 2   scheduledday    110328 non-null  object \n",
      " 3   appointmentday  110328 non-null  object \n",
      " 4   age             110328 non-null  int64  \n",
      " 5   neighbourhood   110328 non-null  object \n",
      " 6   scholarship     110328 non-null  int64  \n",
      " 7   sms_received    110328 non-null  int64  \n",
      " 8   no_show         110328 non-null  object \n",
      " 9   disease         110328 non-null  object \n",
      "dtypes: float64(1), int64(3), object(6)\n",
      "memory usage: 9.3+ MB\n"
     ]
    }
   ],
   "source": [
    "# Drop the old diesease's column \n",
    "df.drop(['hipertension', 'diabetes', 'alcoholism', 'handcap'], axis=1, inplace=True)\n",
    "# Test\n",
    "df.info()"
   ]
  },
  {
   "cell_type": "markdown",
   "metadata": {},
   "source": [
    "#### Define:\n",
    "\"ScheduledDay\" and \"AppointmentDay\" columns' data type is \"object\", it should be \"datetime\"."
   ]
  },
  {
   "cell_type": "markdown",
   "metadata": {},
   "source": [
    "#### Code:"
   ]
  },
  {
   "cell_type": "code",
   "execution_count": 20,
   "metadata": {},
   "outputs": [
    {
     "name": "stdout",
     "output_type": "stream",
     "text": [
      "<class 'pandas.core.frame.DataFrame'>\n",
      "Int64Index: 110328 entries, 0 to 110526\n",
      "Data columns (total 10 columns):\n",
      " #   Column          Non-Null Count   Dtype  \n",
      "---  ------          --------------   -----  \n",
      " 0   patientid       110328 non-null  float64\n",
      " 1   gender          110328 non-null  object \n",
      " 2   scheduledday    110328 non-null  object \n",
      " 3   appointmentday  110328 non-null  object \n",
      " 4   age             110328 non-null  int64  \n",
      " 5   neighbourhood   110328 non-null  object \n",
      " 6   scholarship     110328 non-null  int64  \n",
      " 7   sms_received    110328 non-null  int64  \n",
      " 8   no_show         110328 non-null  object \n",
      " 9   disease         110328 non-null  object \n",
      "dtypes: float64(1), int64(3), object(6)\n",
      "memory usage: 9.3+ MB\n"
     ]
    }
   ],
   "source": [
    "# removing any letters in the columns\n",
    "df.appointmentday = df.appointmentday.str.replace('T', ' ').str.replace('Z', '')\n",
    "df.scheduledday = df.scheduledday.str.replace('T', ' ').str.replace('Z', '')\n",
    "\n",
    "# Test\n",
    "df.info()"
   ]
  },
  {
   "cell_type": "code",
   "execution_count": 21,
   "metadata": {},
   "outputs": [
    {
     "name": "stdout",
     "output_type": "stream",
     "text": [
      "<class 'pandas.core.frame.DataFrame'>\n",
      "Int64Index: 110328 entries, 0 to 110526\n",
      "Data columns (total 10 columns):\n",
      " #   Column          Non-Null Count   Dtype         \n",
      "---  ------          --------------   -----         \n",
      " 0   patientid       110328 non-null  float64       \n",
      " 1   gender          110328 non-null  object        \n",
      " 2   scheduledday    110328 non-null  datetime64[ns]\n",
      " 3   appointmentday  110328 non-null  datetime64[ns]\n",
      " 4   age             110328 non-null  int64         \n",
      " 5   neighbourhood   110328 non-null  object        \n",
      " 6   scholarship     110328 non-null  int64         \n",
      " 7   sms_received    110328 non-null  int64         \n",
      " 8   no_show         110328 non-null  object        \n",
      " 9   disease         110328 non-null  object        \n",
      "dtypes: datetime64[ns](2), float64(1), int64(3), object(4)\n",
      "memory usage: 9.3+ MB\n"
     ]
    }
   ],
   "source": [
    "df.scheduledday = pd.to_datetime(df.scheduledday)\n",
    "df.appointmentday = pd.to_datetime(df.appointmentday)\n",
    "# Test\n",
    "df.info()"
   ]
  },
  {
   "cell_type": "markdown",
   "metadata": {},
   "source": [
    "#### Define:\n",
    "Age column's data type is \"object\", and it has wrong enteries (for example:-1).\n",
    "- wrong values should be dropped.\n",
    "- data type should be changed to int."
   ]
  },
  {
   "cell_type": "markdown",
   "metadata": {},
   "source": [
    "#### Code:"
   ]
  },
  {
   "cell_type": "code",
   "execution_count": 22,
   "metadata": {},
   "outputs": [
    {
     "data": {
      "text/html": [
       "<div>\n",
       "<style scoped>\n",
       "    .dataframe tbody tr th:only-of-type {\n",
       "        vertical-align: middle;\n",
       "    }\n",
       "\n",
       "    .dataframe tbody tr th {\n",
       "        vertical-align: top;\n",
       "    }\n",
       "\n",
       "    .dataframe thead th {\n",
       "        text-align: right;\n",
       "    }\n",
       "</style>\n",
       "<table border=\"1\" class=\"dataframe\">\n",
       "  <thead>\n",
       "    <tr style=\"text-align: right;\">\n",
       "      <th></th>\n",
       "      <th>patientid</th>\n",
       "      <th>gender</th>\n",
       "      <th>scheduledday</th>\n",
       "      <th>appointmentday</th>\n",
       "      <th>age</th>\n",
       "      <th>neighbourhood</th>\n",
       "      <th>scholarship</th>\n",
       "      <th>sms_received</th>\n",
       "      <th>no_show</th>\n",
       "      <th>disease</th>\n",
       "    </tr>\n",
       "  </thead>\n",
       "  <tbody>\n",
       "    <tr>\n",
       "      <th>99832</th>\n",
       "      <td>4.659432e+14</td>\n",
       "      <td>F</td>\n",
       "      <td>2016-06-06 08:58:13</td>\n",
       "      <td>2016-06-06</td>\n",
       "      <td>-1</td>\n",
       "      <td>ROMÃO</td>\n",
       "      <td>0</td>\n",
       "      <td>0</td>\n",
       "      <td>No</td>\n",
       "      <td>other</td>\n",
       "    </tr>\n",
       "  </tbody>\n",
       "</table>\n",
       "</div>"
      ],
      "text/plain": [
       "          patientid gender        scheduledday appointmentday  age  \\\n",
       "99832  4.659432e+14      F 2016-06-06 08:58:13     2016-06-06   -1   \n",
       "\n",
       "      neighbourhood  scholarship  sms_received no_show disease  \n",
       "99832         ROMÃO            0             0      No   other  "
      ]
     },
     "execution_count": 22,
     "metadata": {},
     "output_type": "execute_result"
    }
   ],
   "source": [
    "df[df.age < 0]"
   ]
  },
  {
   "cell_type": "code",
   "execution_count": 23,
   "metadata": {},
   "outputs": [
    {
     "data": {
      "text/html": [
       "<div>\n",
       "<style scoped>\n",
       "    .dataframe tbody tr th:only-of-type {\n",
       "        vertical-align: middle;\n",
       "    }\n",
       "\n",
       "    .dataframe tbody tr th {\n",
       "        vertical-align: top;\n",
       "    }\n",
       "\n",
       "    .dataframe thead th {\n",
       "        text-align: right;\n",
       "    }\n",
       "</style>\n",
       "<table border=\"1\" class=\"dataframe\">\n",
       "  <thead>\n",
       "    <tr style=\"text-align: right;\">\n",
       "      <th></th>\n",
       "      <th>patientid</th>\n",
       "      <th>gender</th>\n",
       "      <th>scheduledday</th>\n",
       "      <th>appointmentday</th>\n",
       "      <th>age</th>\n",
       "      <th>neighbourhood</th>\n",
       "      <th>scholarship</th>\n",
       "      <th>sms_received</th>\n",
       "      <th>no_show</th>\n",
       "      <th>disease</th>\n",
       "    </tr>\n",
       "  </thead>\n",
       "  <tbody>\n",
       "  </tbody>\n",
       "</table>\n",
       "</div>"
      ],
      "text/plain": [
       "Empty DataFrame\n",
       "Columns: [patientid, gender, scheduledday, appointmentday, age, neighbourhood, scholarship, sms_received, no_show, disease]\n",
       "Index: []"
      ]
     },
     "execution_count": 23,
     "metadata": {},
     "output_type": "execute_result"
    }
   ],
   "source": [
    "# dropping the wrong entries of column \"age\"\n",
    "df.drop(df[(df.age<0) | (df.age>100)].index, axis=0, inplace=True)\n",
    "# Test\n",
    "df[(df.age<0) | (df.age>100)]"
   ]
  },
  {
   "cell_type": "code",
   "execution_count": 24,
   "metadata": {},
   "outputs": [
    {
     "name": "stdout",
     "output_type": "stream",
     "text": [
      "<class 'pandas.core.frame.DataFrame'>\n",
      "Int64Index: 110320 entries, 0 to 110526\n",
      "Data columns (total 10 columns):\n",
      " #   Column          Non-Null Count   Dtype         \n",
      "---  ------          --------------   -----         \n",
      " 0   patientid       110320 non-null  float64       \n",
      " 1   gender          110320 non-null  object        \n",
      " 2   scheduledday    110320 non-null  datetime64[ns]\n",
      " 3   appointmentday  110320 non-null  datetime64[ns]\n",
      " 4   age             110320 non-null  int64         \n",
      " 5   neighbourhood   110320 non-null  object        \n",
      " 6   scholarship     110320 non-null  int64         \n",
      " 7   sms_received    110320 non-null  int64         \n",
      " 8   no_show         110320 non-null  object        \n",
      " 9   disease         110320 non-null  object        \n",
      "dtypes: datetime64[ns](2), float64(1), int64(3), object(4)\n",
      "memory usage: 9.3+ MB\n"
     ]
    }
   ],
   "source": [
    "# changing the data type\n",
    "df.age.astype('int')\n",
    "\n",
    "# Test\n",
    "df.info()"
   ]
  },
  {
   "cell_type": "code",
   "execution_count": 25,
   "metadata": {},
   "outputs": [
    {
     "data": {
      "text/plain": [
       "Attended     88045\n",
       "Cancelled    22275\n",
       "Name: no_show, dtype: int64"
      ]
     },
     "execution_count": 25,
     "metadata": {},
     "output_type": "execute_result"
    }
   ],
   "source": [
    "# replace \"Yes\" by \"Cancelled\" and \"No\" by \"Attended\" in \"no_show\" column to be more clear.\n",
    "df.no_show = df.no_show.str.replace('Yes', \"Cancelled\").replace('No', \"Attended\")\n",
    "#Test the code\n",
    "df.no_show.value_counts()"
   ]
  },
  {
   "cell_type": "markdown",
   "metadata": {
    "tags": [],
    "toc-hr-collapsed": true
   },
   "source": [
    "<a id='eda'></a>\n",
    "## Exploratory Data Analysis\n",
    "\n",
    "> In this section cumputing statistics and creating visualizations with the goal of addressing the research questions will be done.\n",
    "\n",
    "<a id='q1'></a>\n",
    "### Q1: what is the most common disease in brazil?"
   ]
  },
  {
   "cell_type": "code",
   "execution_count": 46,
   "metadata": {},
   "outputs": [
    {
     "data": {
      "image/png": "[encoded data removed]",
      "text/plain": [
       "<Figure size 432x288 with 1 Axes>"
      ]
     },
     "metadata": {
      "needs_background": "light"
     },
     "output_type": "display_data"
    }
   ],
   "source": [
    "# ploting the disease column regardless other diseases which are not mentioned here(\"other\").\n",
    "disease_list = pd.Series(dtype=object)\n",
    "# Remove the duplicated patient id not to count a single patient more than one time\n",
    "# Creat a new data frame for this analysis\n",
    "df_without_id = df.drop_duplicates('patientid')\n",
    "disease_list['hipertension'] = df_without_id.query(\"'hipertension ' in disease\").disease.value_counts()['hipertension ']\n",
    "disease_list['diabetes'] = df_without_id.query(\"'diabetes ' in disease\").disease.value_counts()['diabetes ']\n",
    "disease_list['alcoholism'] = df_without_id.query(\"'alcoholism ' in disease\").disease.value_counts()['alcoholism ']\n",
    "disease_list['handcap'] = df_without_id.query(\"'handcap ' in disease\").disease.value_counts()['handcap ']\n",
    "disease_list.plot.barh(color= 'red')\n",
    "plt.xlabel('Disease')\n",
    "plt.ylabel('Number of patients')\n",
    "plt.title('Disease Distribution')\n",
    "plt.xticks(rotation = 0);"
   ]
  },
  {
   "cell_type": "code",
   "execution_count": 44,
   "metadata": {},
   "outputs": [
    {
     "data": {
      "text/plain": [
       "62186"
      ]
     },
     "execution_count": 44,
     "metadata": {},
     "output_type": "execute_result"
    }
   ],
   "source": [
    "len(df_without_id)"
   ]
  },
  {
   "cell_type": "markdown",
   "metadata": {},
   "source": [
    "> The most common disease in Brazil -according to this data- is Hypertension."
   ]
  },
  {
   "cell_type": "markdown",
   "metadata": {},
   "source": [
    "<a id='q2'></a>\n",
    "### Q2: What is the relationship between the diffrence between the scheduled day and the appointment day, and cancellation?"
   ]
  },
  {
   "cell_type": "code",
   "execution_count": 27,
   "metadata": {},
   "outputs": [
    {
     "data": {
      "text/html": [
       "<div>\n",
       "<style scoped>\n",
       "    .dataframe tbody tr th:only-of-type {\n",
       "        vertical-align: middle;\n",
       "    }\n",
       "\n",
       "    .dataframe tbody tr th {\n",
       "        vertical-align: top;\n",
       "    }\n",
       "\n",
       "    .dataframe thead th {\n",
       "        text-align: right;\n",
       "    }\n",
       "</style>\n",
       "<table border=\"1\" class=\"dataframe\">\n",
       "  <thead>\n",
       "    <tr style=\"text-align: right;\">\n",
       "      <th></th>\n",
       "      <th>patientid</th>\n",
       "      <th>gender</th>\n",
       "      <th>scheduledday</th>\n",
       "      <th>appointmentday</th>\n",
       "      <th>age</th>\n",
       "      <th>neighbourhood</th>\n",
       "      <th>scholarship</th>\n",
       "      <th>sms_received</th>\n",
       "      <th>no_show</th>\n",
       "      <th>disease</th>\n",
       "      <th>diff_days</th>\n",
       "    </tr>\n",
       "  </thead>\n",
       "  <tbody>\n",
       "    <tr>\n",
       "      <th>64180</th>\n",
       "      <td>1.367243e+13</td>\n",
       "      <td>F</td>\n",
       "      <td>2016-05-04 10:38:37</td>\n",
       "      <td>2016-05-04</td>\n",
       "      <td>52</td>\n",
       "      <td>GURIGICA</td>\n",
       "      <td>0</td>\n",
       "      <td>0</td>\n",
       "      <td>Attended</td>\n",
       "      <td>handcap</td>\n",
       "      <td>0</td>\n",
       "    </tr>\n",
       "    <tr>\n",
       "      <th>2901</th>\n",
       "      <td>8.586963e+12</td>\n",
       "      <td>F</td>\n",
       "      <td>2016-04-27 13:40:14</td>\n",
       "      <td>2016-04-29</td>\n",
       "      <td>63</td>\n",
       "      <td>CENTRO</td>\n",
       "      <td>0</td>\n",
       "      <td>0</td>\n",
       "      <td>Attended</td>\n",
       "      <td>other</td>\n",
       "      <td>1</td>\n",
       "    </tr>\n",
       "    <tr>\n",
       "      <th>10429</th>\n",
       "      <td>5.417462e+14</td>\n",
       "      <td>F</td>\n",
       "      <td>2016-05-04 12:53:50</td>\n",
       "      <td>2016-05-06</td>\n",
       "      <td>34</td>\n",
       "      <td>JARDIM DA PENHA</td>\n",
       "      <td>0</td>\n",
       "      <td>0</td>\n",
       "      <td>Attended</td>\n",
       "      <td>other</td>\n",
       "      <td>1</td>\n",
       "    </tr>\n",
       "    <tr>\n",
       "      <th>44301</th>\n",
       "      <td>1.268670e+13</td>\n",
       "      <td>M</td>\n",
       "      <td>2016-03-22 08:31:51</td>\n",
       "      <td>2016-05-19</td>\n",
       "      <td>45</td>\n",
       "      <td>ANDORINHAS</td>\n",
       "      <td>0</td>\n",
       "      <td>0</td>\n",
       "      <td>Attended</td>\n",
       "      <td>other</td>\n",
       "      <td>57</td>\n",
       "    </tr>\n",
       "    <tr>\n",
       "      <th>81445</th>\n",
       "      <td>8.254963e+13</td>\n",
       "      <td>M</td>\n",
       "      <td>2016-04-19 09:43:39</td>\n",
       "      <td>2016-05-04</td>\n",
       "      <td>0</td>\n",
       "      <td>BONFIM</td>\n",
       "      <td>0</td>\n",
       "      <td>1</td>\n",
       "      <td>Cancelled</td>\n",
       "      <td>other</td>\n",
       "      <td>14</td>\n",
       "    </tr>\n",
       "  </tbody>\n",
       "</table>\n",
       "</div>"
      ],
      "text/plain": [
       "          patientid gender        scheduledday appointmentday  age  \\\n",
       "64180  1.367243e+13      F 2016-05-04 10:38:37     2016-05-04   52   \n",
       "2901   8.586963e+12      F 2016-04-27 13:40:14     2016-04-29   63   \n",
       "10429  5.417462e+14      F 2016-05-04 12:53:50     2016-05-06   34   \n",
       "44301  1.268670e+13      M 2016-03-22 08:31:51     2016-05-19   45   \n",
       "81445  8.254963e+13      M 2016-04-19 09:43:39     2016-05-04    0   \n",
       "\n",
       "         neighbourhood  scholarship  sms_received    no_show   disease  \\\n",
       "64180         GURIGICA            0             0   Attended  handcap    \n",
       "2901            CENTRO            0             0   Attended     other   \n",
       "10429  JARDIM DA PENHA            0             0   Attended     other   \n",
       "44301       ANDORINHAS            0             0   Attended     other   \n",
       "81445           BONFIM            0             1  Cancelled     other   \n",
       "\n",
       "       diff_days  \n",
       "64180          0  \n",
       "2901           1  \n",
       "10429          1  \n",
       "44301         57  \n",
       "81445         14  "
      ]
     },
     "execution_count": 27,
     "metadata": {},
     "output_type": "execute_result"
    }
   ],
   "source": [
    "# calculating the diffrence between appointment day and scheduled day\n",
    "diff_col =  df.appointmentday - df.scheduledday\n",
    "#  adding a difference column to a new data frame to be used for this part\n",
    "df_diff = df.copy()\n",
    "df_diff['diff_days'] = diff_col\n",
    "# keep the days only and drop the rest of the difference\n",
    "df_diff['diff_days'] = df_diff['diff_days'].dt.days\n",
    "# replace (-1) by 0; This means the same day\n",
    "df_diff.diff_days.replace(-1, 0, inplace=True)\n",
    "\n",
    "# test the code\n",
    "df_diff.sample(5)"
   ]
  },
  {
   "cell_type": "code",
   "execution_count": 28,
   "metadata": {},
   "outputs": [
    {
     "data": {
      "text/plain": [
       "178"
      ]
     },
     "execution_count": 28,
     "metadata": {},
     "output_type": "execute_result"
    }
   ],
   "source": [
    "# check the max difference between scheduled day and appointment day.\n",
    "df_diff.diff_days.max()"
   ]
  },
  {
   "cell_type": "code",
   "execution_count": 29,
   "metadata": {},
   "outputs": [
    {
     "data": {
      "text/html": [
       "<div>\n",
       "<style scoped>\n",
       "    .dataframe tbody tr th:only-of-type {\n",
       "        vertical-align: middle;\n",
       "    }\n",
       "\n",
       "    .dataframe tbody tr th {\n",
       "        vertical-align: top;\n",
       "    }\n",
       "\n",
       "    .dataframe thead th {\n",
       "        text-align: right;\n",
       "    }\n",
       "</style>\n",
       "<table border=\"1\" class=\"dataframe\">\n",
       "  <thead>\n",
       "    <tr style=\"text-align: right;\">\n",
       "      <th></th>\n",
       "      <th>patientid</th>\n",
       "      <th>gender</th>\n",
       "      <th>scheduledday</th>\n",
       "      <th>appointmentday</th>\n",
       "      <th>age</th>\n",
       "      <th>neighbourhood</th>\n",
       "      <th>scholarship</th>\n",
       "      <th>sms_received</th>\n",
       "      <th>no_show</th>\n",
       "      <th>disease</th>\n",
       "      <th>diff_days</th>\n",
       "      <th>diff_range</th>\n",
       "    </tr>\n",
       "  </thead>\n",
       "  <tbody>\n",
       "    <tr>\n",
       "      <th>45553</th>\n",
       "      <td>5.244256e+13</td>\n",
       "      <td>F</td>\n",
       "      <td>2016-05-16 07:10:09</td>\n",
       "      <td>2016-05-30</td>\n",
       "      <td>44</td>\n",
       "      <td>CENTRO</td>\n",
       "      <td>0</td>\n",
       "      <td>1</td>\n",
       "      <td>Attended</td>\n",
       "      <td>other</td>\n",
       "      <td>13</td>\n",
       "      <td>10-20</td>\n",
       "    </tr>\n",
       "  </tbody>\n",
       "</table>\n",
       "</div>"
      ],
      "text/plain": [
       "          patientid gender        scheduledday appointmentday  age  \\\n",
       "45553  5.244256e+13      F 2016-05-16 07:10:09     2016-05-30   44   \n",
       "\n",
       "      neighbourhood  scholarship  sms_received   no_show disease  diff_days  \\\n",
       "45553        CENTRO            0             1  Attended   other         13   \n",
       "\n",
       "      diff_range  \n",
       "45553      10-20  "
      ]
     },
     "execution_count": 29,
     "metadata": {},
     "output_type": "execute_result"
    }
   ],
   "source": [
    "# adding a new column with diffrent day ranges for eaiser plotting\n",
    "df_diff['diff_range'] = pd.cut(df_diff.diff_days,bins=[1,10,20,30,40,50,200], labels=['1-10','10-20','20-30', '30-40', '40-50','more than 50'])\n",
    "\n",
    "# Test\n",
    "df_diff.sample()"
   ]
  },
  {
   "cell_type": "code",
   "execution_count": 47,
   "metadata": {},
   "outputs": [
    {
     "data": {
      "image/png": "[encoded data removed]",
      "text/plain": [
       "<Figure size 432x288 with 1 Axes>"
      ]
     },
     "metadata": {
      "needs_background": "light"
     },
     "output_type": "display_data"
    }
   ],
   "source": [
    "# calculate the attendace raio and cancellation ratio for each waiting period\n",
    "attended_num = df_diff.groupby(['no_show','diff_range'])['patientid'].count()['Attended']\n",
    "cancel_num = df_diff.groupby(['no_show','diff_range'])['patientid'].count()['Cancelled']\n",
    "attendance_ratio = attended_num / len(df_diff) * 100 \n",
    "cancellation_ratio = cancel_num / len(df_diff) * 100\n",
    "# create a data frame and plot it to see the relationship\n",
    "df2= pd.DataFrame({'attendance_ratio': attendance_ratio.values \n",
    "                  ,'cancellation_ratio': cancellation_ratio.values}, index = attendance_ratio.index)\n",
    "ax = df2.plot.bar()\n",
    "plt.xlabel('Waiting Period(days)')\n",
    "plt.ylabel('Ratio (%)')\n",
    "plt.title('Relationship between cancellation ratio and attendance ratio with the waiting period')\n",
    "plt.xticks(rotation = 0)\n",
    "leg = ax.legend([\"Attendance Ratio\", \"Cancellation Ratio\"]);"
   ]
  },
  {
   "cell_type": "markdown",
   "metadata": {},
   "source": [
    "> \n",
    "- It is clear that the best practice to make patients attend, is to make the waiting period within 10 days.<br>\n",
    "- The longer waiting period is, The less attendance we get.\n",
    "<br>\n",
    "- In the oher hand, the highest number of cancellation occurs wihin 10 days too and decreases by time which needs more investigation to find out the root cause for this."
   ]
  },
  {
   "cell_type": "markdown",
   "metadata": {},
   "source": [
    "<a id='q3'></a>\n",
    "### Q3: what is the relationship between gender and cancellation?"
   ]
  },
  {
   "cell_type": "code",
   "execution_count": 31,
   "metadata": {},
   "outputs": [],
   "source": [
    "attend_f = (df.groupby(['no_show', 'gender'])['gender'].count()['Attended']['F'])/ len(df[df.gender == 'F']) * 100\n",
    "attend_m = (df.groupby(['no_show', 'gender'])['gender'].count()['Attended']['M'])/ len(df[df.gender == 'M']) * 100\n",
    "cancel_f = (df.groupby(['no_show', 'gender'])['gender'].count()['Cancelled']['F'])/ len(df[df.gender == 'F']) * 100\n",
    "cancel_m = (df.groupby(['no_show', 'gender'])['gender'].count()['Cancelled']['M'])/ len(df[df.gender == 'M']) * 100"
   ]
  },
  {
   "cell_type": "code",
   "execution_count": 32,
   "metadata": {},
   "outputs": [],
   "source": [
    "# Creating a ploting function to plot a bar chart for 4 variables \n",
    "def ploting(title_, y1, y2, y3, y4, var1, var2, var3, var4):\n",
    "    q4_series = pd.Series({y1: var1,\n",
    "                          y2: var2,\n",
    "                          y3: var3,\n",
    "                          y4: var4})\n",
    "    plt.barh(q4_series.index, q4_series.values)\n",
    "    plt.xlabel('Ratio(%)', fontsize = 14)\n",
    "    plt.title(title_, fontsize = 16)\n",
    "    plt.gca().invert_yaxis()\n",
    "    plt.show();"
   ]
  },
  {
   "cell_type": "code",
   "execution_count": 33,
   "metadata": {},
   "outputs": [
    {
     "data": {
      "image/png": "[encoded data removed]",
      "text/plain": [
       "<Figure size 432x288 with 1 Axes>"
      ]
     },
     "metadata": {
      "needs_background": "light"
     },
     "output_type": "display_data"
    }
   ],
   "source": [
    "# plot The relationship\n",
    "ploting('The relationship betweengender and attendace',\n",
    "       'The ratio of attended females',\n",
    "        'The ratio of attended males',\n",
    "        'The ratio of cancelled females',\n",
    "        'The ratio of cancelled males',\n",
    "        attend_f,\n",
    "        attend_m,\n",
    "        cancel_f,\n",
    "        cancel_m\n",
    "       )"
   ]
  },
  {
   "cell_type": "markdown",
   "metadata": {},
   "source": [
    "> There is no relationship between gender and attendace or cancellation as men and women have the same ratio of attendance and cancellation."
   ]
  },
  {
   "cell_type": "markdown",
   "metadata": {},
   "source": [
    "<a id='q4'></a>\n",
    "### Q4: What is the relationship between scholarshop and cancellation?"
   ]
  },
  {
   "cell_type": "code",
   "execution_count": 34,
   "metadata": {},
   "outputs": [],
   "source": [
    "attend_with_s = df.query('no_show == \"Attended\" and scholarship == 1')['scholarship'].count() / len(df[df.scholarship == 1]) * 100\n",
    "attend_without_s = df.query('no_show == \"Attended\" and scholarship == 0')['scholarship'].count() / len(df[df.scholarship == 0]) * 100\n",
    "cancel_with_s = df.query('no_show == \"Cancelled\" and scholarship == 1')['scholarship'].count() / len(df[df.scholarship == 1]) * 100\n",
    "cancel_without_s = df.query('no_show == \"Cancelled\" and scholarship == 0')['scholarship'].count() / len(df[df.scholarship == 0]) * 100"
   ]
  },
  {
   "cell_type": "code",
   "execution_count": 35,
   "metadata": {},
   "outputs": [
    {
     "data": {
      "image/png": "[encoded data removed]",
      "text/plain": [
       "<Figure size 432x288 with 1 Axes>"
      ]
     },
     "metadata": {
      "needs_background": "light"
     },
     "output_type": "display_data"
    }
   ],
   "source": [
    "# plot The relationship\n",
    "ploting('The relationship between scholarshop and attendance',\n",
    "       'Attendance with scholarship',\n",
    "        'Attendance without scholarship',\n",
    "        'Cancelation with scholarship',\n",
    "        'Cancellation without scholarship',\n",
    "        attend_with_s,\n",
    "        attend_without_s,\n",
    "        cancel_with_s,\n",
    "        cancel_without_s\n",
    "                      )"
   ]
  },
  {
   "cell_type": "markdown",
   "metadata": {},
   "source": [
    "> \n",
    "- There is no clear relationship between attendance and cancellation for patients with and without scholarship. <br>\n",
    "- Patients who have scholarship attended less and cancelled more, Parients who don't have scholarship attended more and cancelled less."
   ]
  },
  {
   "cell_type": "markdown",
   "metadata": {},
   "source": [
    "<a id='q5'></a>\n",
    "### Q5: What is the relationship between age and cancellation?"
   ]
  },
  {
   "cell_type": "code",
   "execution_count": 36,
   "metadata": {},
   "outputs": [
    {
     "data": {
      "text/plain": [
       "youth       31776\n",
       "old         30041\n",
       "child       25280\n",
       "very_old    19684\n",
       "Name: age_range, dtype: int64"
      ]
     },
     "execution_count": 36,
     "metadata": {},
     "output_type": "execute_result"
    }
   ],
   "source": [
    "# Create a data frame for age analysis\n",
    "df_age = df[['no_show','age']].copy()\n",
    "df_age['age_range']= pd.cut(df_age.age, bins=[0,18,40,60,100], labels=['child','youth', 'old', 'very_old'])\n",
    "df_age.drop('age', axis=1, inplace=True)\n",
    "df_age.sample()\n",
    "# test\n",
    "df_age.age_range.value_counts()"
   ]
  },
  {
   "cell_type": "code",
   "execution_count": 37,
   "metadata": {},
   "outputs": [
    {
     "data": {
      "image/png": "[encoded data removed]",
      "text/plain": [
       "<Figure size 432x288 with 1 Axes>"
      ]
     },
     "metadata": {
      "needs_background": "light"
     },
     "output_type": "display_data"
    }
   ],
   "source": [
    "# caclculate the attenance per each age category\n",
    "att_child = (df_age.groupby(['no_show', 'age_range'])['age_range'].count())['Attended']['child'] / len(df_age[df_age.age_range == 'child']) * 100\n",
    "att_youth = (df_age.groupby(['no_show', 'age_range'])['age_range'].count())['Attended']['youth'] / len(df_age[df_age.age_range == 'youth']) * 100\n",
    "att_old = (df_age.groupby(['no_show', 'age_range'])['age_range'].count())['Attended']['old'] / len(df_age[df_age.age_range == 'old']) * 100\n",
    "att_very_old = (df_age.groupby(['no_show', 'age_range'])['age_range'].count())['Attended']['very_old'] / len(df_age[df_age.age_range == 'very_old']) * 100\n",
    "ploting('The attendance depending on age range',\n",
    "       'Child', 'Youth', 'old', 'Very Old',\n",
    "       att_child, att_youth, att_old, att_very_old)\n"
   ]
  },
  {
   "cell_type": "code",
   "execution_count": 38,
   "metadata": {},
   "outputs": [
    {
     "data": {
      "image/png": "[encoded data removed]",
      "text/plain": [
       "<Figure size 432x288 with 1 Axes>"
      ]
     },
     "metadata": {
      "needs_background": "light"
     },
     "output_type": "display_data"
    }
   ],
   "source": [
    "# caclculate the cancellation per each age category\n",
    "cancel_child = (df_age.groupby(['no_show', 'age_range'])['age_range'].count())['Cancelled']['child'] / len(df_age[df_age.age_range == 'child']) * 100\n",
    "cancel_youth = (df_age.groupby(['no_show', 'age_range'])['age_range'].count())['Cancelled']['youth'] / len(df_age[df_age.age_range == 'youth']) * 100\n",
    "cancel_old = (df_age.groupby(['no_show', 'age_range'])['age_range'].count())['Cancelled']['old'] / len(df_age[df_age.age_range == 'old']) * 100\n",
    "cancel_very_old = (df_age.groupby(['no_show', 'age_range'])['age_range'].count())['Cancelled']['very_old'] / len(df_age[df_age.age_range == 'very_old']) * 100\n",
    "ploting('The cancellation depending on age range',\n",
    "       'Child', 'Youth', 'old', 'Very Old',\n",
    "       cancel_child, cancel_youth, cancel_old, cancel_very_old)\n",
    "\n"
   ]
  },
  {
   "cell_type": "markdown",
   "metadata": {},
   "source": [
    "> The very old and old patients' attenace rate is very high and their cancellation is the lowest amonge the rest of age categories."
   ]
  },
  {
   "cell_type": "markdown",
   "metadata": {},
   "source": [
    "<a id='conclusions'></a>\n",
    "## Conclusions"
   ]
  },
  {
   "cell_type": "markdown",
   "metadata": {
    "tags": []
   },
   "source": [
    "> According to this data analysis, The following points were found:\n",
    "- One of the most common diseases in Brazil -according to this data- is Hypertension.<br>\n",
    "- It is clear that the best practice to increase patients' attendance, is to make the waiting period within 10 days.<br>\n",
    "- The longer waiting period is, The less attendance we get.<br>\n",
    "- In the oher hand, the highest number of cancellation occurs wihin 10 days too and decreases by time which needs more investigation to find out the root cause for this.<br>\n",
    "- There is no relationship between gender and attendace or cancellation as men and women have the same ratio of attendance and cancellation.<br>\n",
    "- There is no clear relationship between attendance and cancellation for patients with and without scholarship. <br>\n",
    "- Patients who have scholarship attended less and cancelled more, Parients who don't have scholarship attended more and cancelled less.<br>\n",
    "- The very old and old patients' attenace rate is very high and their cancellation is the lowest amonge the rest of age categories."
   ]
  }
 ],
 "metadata": {
  "kernelspec": {
   "display_name": "Python 3",
   "language": "python",
   "name": "python3"
  },
  "language_info": {
   "codemirror_mode": {
    "name": "ipython",
    "version": 3
   },
   "file_extension": ".py",
   "mimetype": "text/x-python",
   "name": "python",
   "nbconvert_exporter": "python",
   "pygments_lexer": "ipython3",
   "version": "3.8.8"
  },
  "toc-autonumbering": true,
  "toc-showcode": false,
  "toc-showmarkdowntxt": false,
  "toc-showtags": false
 },
 "nbformat": 4,
 "nbformat_minor": 4
}
